{
 "cells": [
  {
   "cell_type": "markdown",
   "metadata": {},
   "source": [
    "# Find Similar Institution based on Carnegie Classification within 100 miles in long Beach offering Bachelor’s Degree in Nursing."
   ]
  },
  {
   "cell_type": "markdown",
   "metadata": {},
   "source": [
    "### Import Modules"
   ]
  },
  {
   "cell_type": "code",
   "execution_count": 1,
   "metadata": {},
   "outputs": [],
   "source": [
    "import pandas as pd\n",
    "from math import radians, sin, cos, asin, sqrt\n",
    "import os"
   ]
  },
  {
   "cell_type": "code",
   "execution_count": 2,
   "metadata": {},
   "outputs": [],
   "source": [
    "os.chdir('../')"
   ]
  },
  {
   "cell_type": "markdown",
   "metadata": {},
   "source": [
    "### Institiustional Characteristics File"
   ]
  },
  {
   "cell_type": "code",
   "execution_count": 3,
   "metadata": {},
   "outputs": [],
   "source": [
    "IC_df=pd.read_csv(\"1. Raw Data/Institutional Characteristics/hd2017.csv\",encoding='latin-1')"
   ]
  },
  {
   "cell_type": "markdown",
   "metadata": {},
   "source": [
    "### Completion files <br>(File A :Awards/degrees conferred by program (6-digit CIP code), award level, race/ethnicity, and gender)<br><br> (File C:Number of students receiving awards/degrees, by award level and by gender, race/ethnicity and age categories)"
   ]
  },
  {
   "cell_type": "code",
   "execution_count": 4,
   "metadata": {},
   "outputs": [],
   "source": [
    "path_to_processed_files=\"2. Processed data/\""
   ]
  },
  {
   "cell_type": "code",
   "execution_count": 5,
   "metadata": {},
   "outputs": [],
   "source": [
    "comp_a_df=pd.read_csv(path_to_processed_files+\"completion_a_output.csv\",index_col=None,low_memory=False)"
   ]
  },
  {
   "cell_type": "code",
   "execution_count": 6,
   "metadata": {},
   "outputs": [],
   "source": [
    "comp_c_df=pd.read_csv(path_to_processed_files+\"completion_c_output.csv\",index_col=None,low_memory=False)"
   ]
  },
  {
   "cell_type": "markdown",
   "metadata": {},
   "source": [
    " ### Financial Aid and Net Price<br> (File SFA:Student financial aid and net price)<br><br>(File SFAV: Military Servicemembers and Veteran's Benefits)"
   ]
  },
  {
   "cell_type": "code",
   "execution_count": 7,
   "metadata": {},
   "outputs": [],
   "source": [
    "sfa_df=pd.read_csv(path_to_processed_files+\"StudentFinancialnet_sfa_output.csv\", low_memory=False)"
   ]
  },
  {
   "cell_type": "code",
   "execution_count": 8,
   "metadata": {},
   "outputs": [],
   "source": [
    "sfav_df=pd.read_csv(path_to_processed_files+\"StudentFinancialnet_sfav_output.csv\", low_memory=False)"
   ]
  },
  {
   "cell_type": "markdown",
   "metadata": {},
   "source": [
    "### Fall Enrollment <br>(File A: Race/ethnicity, gender, attendance status, and level of student)<br>(File B: Age category, gender, attendance status, and level of student)<br>(File D: Total entering class, retention rates, and student-to-faculty ratio)"
   ]
  },
  {
   "cell_type": "code",
   "execution_count": 9,
   "metadata": {},
   "outputs": [],
   "source": [
    "FE_a_df=pd.read_csv(path_to_processed_files+\"FallEnrollment_a_output.csv\",low_memory=False)"
   ]
  },
  {
   "cell_type": "code",
   "execution_count": 10,
   "metadata": {},
   "outputs": [],
   "source": [
    "FE_b_df=pd.read_csv(path_to_processed_files+\"FallEnrollment_b_output.csv\",low_memory=False)"
   ]
  },
  {
   "cell_type": "code",
   "execution_count": 11,
   "metadata": {},
   "outputs": [],
   "source": [
    "FE_d_df=pd.read_csv(path_to_processed_files+\"FallEnrollment_d_output.csv\",low_memory=False)"
   ]
  },
  {
   "cell_type": "markdown",
   "metadata": {},
   "source": [
    "### Admissions and Test Scores<br>(Admission considerations, applications, admissions, enrollees and test scores)"
   ]
  },
  {
   "cell_type": "code",
   "execution_count": 12,
   "metadata": {},
   "outputs": [],
   "source": [
    "at_df=pd.read_csv(path_to_processed_files+\"Admission&testscore_output.csv\")"
   ]
  },
  {
   "cell_type": "markdown",
   "metadata": {},
   "source": [
    "### 12-month enrollment data<br>(File EFFY :12-month unduplicated headcount)<br>(File EFIA:12-month instructional activity)"
   ]
  },
  {
   "cell_type": "code",
   "execution_count": 13,
   "metadata": {},
   "outputs": [],
   "source": [
    "effy_df=pd.read_csv(path_to_processed_files+\"EFFY_output.csv\")"
   ]
  },
  {
   "cell_type": "code",
   "execution_count": 14,
   "metadata": {},
   "outputs": [],
   "source": [
    "efia_df=pd.read_csv(path_to_processed_files+\"EFIA_output.csv\")"
   ]
  },
  {
   "cell_type": "markdown",
   "metadata": {},
   "source": [
    "# Input user Preferances"
   ]
  },
  {
   "cell_type": "code",
   "execution_count": 15,
   "metadata": {},
   "outputs": [],
   "source": [
    "awlevel={\"Associate's degree\":3,\n",
    "\"Bachelor's degree\":5,\n",
    "\"Master's degree\":7,\n",
    "\"Doctor's degree - research/scholarship\":17,\n",
    "\"Doctor's degree - professional practice\":18,\n",
    "\"Doctor's degree - other\":19,\n",
    "\"Award of less than 1 academic year\":1,\n",
    "\"Award of at least 1 but less than 2 academic years\":2,\n",
    "\"Award of at least 2 but less than 4 academic years\":4,\n",
    "\"Postbaccalaureate certificate\":6,\n",
    "\"Post-master's certificate\":8,\n",
    "}"
   ]
  },
  {
   "cell_type": "code",
   "execution_count": 16,
   "metadata": {},
   "outputs": [
    {
     "name": "stdout",
     "output_type": "stream",
     "text": [
      "Degree :Associate's degree and award Number :3\n",
      "Degree :Bachelor's degree and award Number :5\n",
      "Degree :Master's degree and award Number :7\n",
      "Degree :Doctor's degree - research/scholarship and award Number :17\n",
      "Degree :Doctor's degree - professional practice and award Number :18\n",
      "Degree :Doctor's degree - other and award Number :19\n",
      "Degree :Award of less than 1 academic year and award Number :1\n",
      "Degree :Award of at least 1 but less than 2 academic years and award Number :2\n",
      "Degree :Award of at least 2 but less than 4 academic years and award Number :4\n",
      "Degree :Postbaccalaureate certificate and award Number :6\n",
      "Degree :Post-master's certificate and award Number :8\n"
     ]
    }
   ],
   "source": [
    "for key,value in awlevel.items():\n",
    "    print(\"Degree :{} and award Number :{}\".format(key,value))"
   ]
  },
  {
   "cell_type": "code",
   "execution_count": null,
   "metadata": {},
   "outputs": [],
   "source": [
    "# Enter 5 for test\n",
    "# input_a=input(\"Select the award level/Degree:\\n\")"
   ]
  },
  {
   "cell_type": "code",
   "execution_count": 17,
   "metadata": {},
   "outputs": [],
   "source": [
    "CIPCODE=51.3801\n",
    "# AWLEVEL=int(input_a)"
   ]
  },
  {
   "cell_type": "markdown",
   "metadata": {},
   "source": [
    "## awlevel and Cipcode filter from completion File A"
   ]
  },
  {
   "cell_type": "code",
   "execution_count": 18,
   "metadata": {},
   "outputs": [],
   "source": [
    "unit_df=comp_a_df[(comp_a_df['AWLEVEL']==3) & (comp_a_df['CIPCODE']==CIPCODE)|(comp_a_df['AWLEVEL']==4) & (comp_a_df['CIPCODE']==CIPCODE)|(comp_a_df['AWLEVEL']==5) & (comp_a_df['CIPCODE']==CIPCODE)]"
   ]
  },
  {
   "cell_type": "markdown",
   "metadata": {},
   "source": [
    "### Only BAch-5"
   ]
  },
  {
   "cell_type": "code",
   "execution_count": 18,
   "metadata": {},
   "outputs": [],
   "source": [
    "unit_df=comp_a_df[(comp_a_df['AWLEVEL']==5) & (comp_a_df['CIPCODE']==CIPCODE)]"
   ]
  },
  {
   "cell_type": "code",
   "execution_count": 19,
   "metadata": {},
   "outputs": [],
   "source": [
    "unit_df=unit_df['UNITID'].unique()"
   ]
  },
  {
   "cell_type": "code",
   "execution_count": 20,
   "metadata": {},
   "outputs": [],
   "source": [
    "uni_list=IC_df.loc[IC_df['UNITID'].isin(list(unit_df))]"
   ]
  },
  {
   "cell_type": "code",
   "execution_count": 21,
   "metadata": {
    "scrolled": true
   },
   "outputs": [
    {
     "data": {
      "text/html": [
       "<div>\n",
       "<style scoped>\n",
       "    .dataframe tbody tr th:only-of-type {\n",
       "        vertical-align: middle;\n",
       "    }\n",
       "\n",
       "    .dataframe tbody tr th {\n",
       "        vertical-align: top;\n",
       "    }\n",
       "\n",
       "    .dataframe thead th {\n",
       "        text-align: right;\n",
       "    }\n",
       "</style>\n",
       "<table border=\"1\" class=\"dataframe\">\n",
       "  <thead>\n",
       "    <tr style=\"text-align: right;\">\n",
       "      <th></th>\n",
       "      <th>INSTNM</th>\n",
       "      <th>UNITID</th>\n",
       "    </tr>\n",
       "  </thead>\n",
       "  <tbody>\n",
       "    <tr>\n",
       "      <th>1</th>\n",
       "      <td>University of Alabama at Birmingham</td>\n",
       "      <td>100663</td>\n",
       "    </tr>\n",
       "    <tr>\n",
       "      <th>3</th>\n",
       "      <td>University of Alabama in Huntsville</td>\n",
       "      <td>100706</td>\n",
       "    </tr>\n",
       "    <tr>\n",
       "      <th>6</th>\n",
       "      <td>The University of Alabama</td>\n",
       "      <td>100751</td>\n",
       "    </tr>\n",
       "    <tr>\n",
       "      <th>9</th>\n",
       "      <td>Auburn University at Montgomery</td>\n",
       "      <td>100830</td>\n",
       "    </tr>\n",
       "    <tr>\n",
       "      <th>10</th>\n",
       "      <td>Auburn University</td>\n",
       "      <td>100858</td>\n",
       "    </tr>\n",
       "    <tr>\n",
       "      <th>...</th>\n",
       "      <td>...</td>\n",
       "      <td>...</td>\n",
       "    </tr>\n",
       "    <tr>\n",
       "      <th>7099</th>\n",
       "      <td>Kaplan University-St. Louis</td>\n",
       "      <td>490771</td>\n",
       "    </tr>\n",
       "    <tr>\n",
       "      <th>7101</th>\n",
       "      <td>Purdue University Northwest</td>\n",
       "      <td>490805</td>\n",
       "    </tr>\n",
       "    <tr>\n",
       "      <th>7122</th>\n",
       "      <td>National American University-Garden City</td>\n",
       "      <td>491093</td>\n",
       "    </tr>\n",
       "    <tr>\n",
       "      <th>7123</th>\n",
       "      <td>National American University-Watertown</td>\n",
       "      <td>491109</td>\n",
       "    </tr>\n",
       "    <tr>\n",
       "      <th>7138</th>\n",
       "      <td>University of Wisconsin-Milwaukee Flex</td>\n",
       "      <td>491288</td>\n",
       "    </tr>\n",
       "  </tbody>\n",
       "</table>\n",
       "<p>1138 rows × 2 columns</p>\n",
       "</div>"
      ],
      "text/plain": [
       "                                        INSTNM  UNITID\n",
       "1          University of Alabama at Birmingham  100663\n",
       "3          University of Alabama in Huntsville  100706\n",
       "6                    The University of Alabama  100751\n",
       "9              Auburn University at Montgomery  100830\n",
       "10                           Auburn University  100858\n",
       "...                                        ...     ...\n",
       "7099               Kaplan University-St. Louis  490771\n",
       "7101               Purdue University Northwest  490805\n",
       "7122  National American University-Garden City  491093\n",
       "7123    National American University-Watertown  491109\n",
       "7138    University of Wisconsin-Milwaukee Flex  491288\n",
       "\n",
       "[1138 rows x 2 columns]"
      ]
     },
     "execution_count": 21,
     "metadata": {},
     "output_type": "execute_result"
    }
   ],
   "source": [
    "uni_list[['INSTNM','UNITID']]"
   ]
  },
  {
   "cell_type": "code",
   "execution_count": 22,
   "metadata": {},
   "outputs": [
    {
     "name": "stdout",
     "output_type": "stream",
     "text": [
      "Input the universtity UNITID\n",
      "477039\n"
     ]
    }
   ],
   "source": [
    "# Enter 110583(CSULB for testing) for \n",
    "uni_input=input(\"Input the universtity UNITID\\n\")"
   ]
  },
  {
   "cell_type": "code",
   "execution_count": 23,
   "metadata": {},
   "outputs": [],
   "source": [
    "final_uni=IC_df[IC_df['UNITID']==int(uni_input)]"
   ]
  },
  {
   "cell_type": "code",
   "execution_count": 24,
   "metadata": {},
   "outputs": [],
   "source": [
    "long=float(final_uni['LONGITUD'])\n",
    "lat=float(final_uni['LATITUDE'])"
   ]
  },
  {
   "cell_type": "code",
   "execution_count": 25,
   "metadata": {},
   "outputs": [],
   "source": [
    "def haversine(lon1, lat1, lon2, lat2):\n",
    "    lon1, lat1, lon2, lat2 = map(radians, [lon1, lat1, lon2, lat2])\n",
    "    dlon = lon2 - lon1\n",
    "    dlat = lat2 - lat1\n",
    "    a = sin(dlat / 2) ** 2 + cos(lat1) * cos(lat2) * sin(dlon / 2) ** 2\n",
    "    return 2 * 3958.756 * asin(sqrt(a))"
   ]
  },
  {
   "cell_type": "code",
   "execution_count": 26,
   "metadata": {
    "scrolled": true
   },
   "outputs": [
    {
     "data": {
      "text/html": [
       "<div>\n",
       "<style scoped>\n",
       "    .dataframe tbody tr th:only-of-type {\n",
       "        vertical-align: middle;\n",
       "    }\n",
       "\n",
       "    .dataframe tbody tr th {\n",
       "        vertical-align: top;\n",
       "    }\n",
       "\n",
       "    .dataframe thead th {\n",
       "        text-align: right;\n",
       "    }\n",
       "</style>\n",
       "<table border=\"1\" class=\"dataframe\">\n",
       "  <thead>\n",
       "    <tr style=\"text-align: right;\">\n",
       "      <th></th>\n",
       "      <th>UNITID</th>\n",
       "      <th>INSTNM</th>\n",
       "      <th>IALIAS</th>\n",
       "      <th>ADDR</th>\n",
       "      <th>CITY</th>\n",
       "      <th>STABBR</th>\n",
       "      <th>ZIP</th>\n",
       "      <th>FIPS</th>\n",
       "      <th>OBEREG</th>\n",
       "      <th>CHFNM</th>\n",
       "      <th>...</th>\n",
       "      <th>CBSATYPE</th>\n",
       "      <th>CSA</th>\n",
       "      <th>NECTA</th>\n",
       "      <th>COUNTYCD</th>\n",
       "      <th>COUNTYNM</th>\n",
       "      <th>CNGDSTCD</th>\n",
       "      <th>LONGITUD</th>\n",
       "      <th>LATITUDE</th>\n",
       "      <th>DFRCGID</th>\n",
       "      <th>DFRCUSCG</th>\n",
       "    </tr>\n",
       "  </thead>\n",
       "  <tbody>\n",
       "    <tr>\n",
       "      <th>1</th>\n",
       "      <td>100663</td>\n",
       "      <td>University of Alabama at Birmingham</td>\n",
       "      <td></td>\n",
       "      <td>Administration Bldg Suite 1070</td>\n",
       "      <td>Birmingham</td>\n",
       "      <td>AL</td>\n",
       "      <td>35294-0110</td>\n",
       "      <td>1</td>\n",
       "      <td>5</td>\n",
       "      <td>Ray L. Watts</td>\n",
       "      <td>...</td>\n",
       "      <td>1</td>\n",
       "      <td>142</td>\n",
       "      <td>-2</td>\n",
       "      <td>1073</td>\n",
       "      <td>Jefferson County</td>\n",
       "      <td>107</td>\n",
       "      <td>-86.799345</td>\n",
       "      <td>33.505697</td>\n",
       "      <td>109</td>\n",
       "      <td>1</td>\n",
       "    </tr>\n",
       "    <tr>\n",
       "      <th>3</th>\n",
       "      <td>100706</td>\n",
       "      <td>University of Alabama in Huntsville</td>\n",
       "      <td>UAH |University of Alabama Huntsville</td>\n",
       "      <td>301 Sparkman Dr</td>\n",
       "      <td>Huntsville</td>\n",
       "      <td>AL</td>\n",
       "      <td>35899</td>\n",
       "      <td>1</td>\n",
       "      <td>5</td>\n",
       "      <td>Robert A. Altenkirch</td>\n",
       "      <td>...</td>\n",
       "      <td>1</td>\n",
       "      <td>290</td>\n",
       "      <td>-2</td>\n",
       "      <td>1089</td>\n",
       "      <td>Madison County</td>\n",
       "      <td>105</td>\n",
       "      <td>-86.640449</td>\n",
       "      <td>34.724557</td>\n",
       "      <td>112</td>\n",
       "      <td>2</td>\n",
       "    </tr>\n",
       "    <tr>\n",
       "      <th>6</th>\n",
       "      <td>100751</td>\n",
       "      <td>The University of Alabama</td>\n",
       "      <td></td>\n",
       "      <td>739 University Blvd</td>\n",
       "      <td>Tuscaloosa</td>\n",
       "      <td>AL</td>\n",
       "      <td>35487-0166</td>\n",
       "      <td>1</td>\n",
       "      <td>5</td>\n",
       "      <td>Dr. Stuart R. Bell</td>\n",
       "      <td>...</td>\n",
       "      <td>1</td>\n",
       "      <td>-2</td>\n",
       "      <td>-2</td>\n",
       "      <td>1125</td>\n",
       "      <td>Tuscaloosa County</td>\n",
       "      <td>107</td>\n",
       "      <td>-87.545978</td>\n",
       "      <td>33.211875</td>\n",
       "      <td>111</td>\n",
       "      <td>1</td>\n",
       "    </tr>\n",
       "    <tr>\n",
       "      <th>9</th>\n",
       "      <td>100830</td>\n",
       "      <td>Auburn University at Montgomery</td>\n",
       "      <td>AUM|Auburn University Montgomery|Auburn Univer...</td>\n",
       "      <td>7440 East Drive</td>\n",
       "      <td>Montgomery</td>\n",
       "      <td>AL</td>\n",
       "      <td>36117-3596</td>\n",
       "      <td>1</td>\n",
       "      <td>5</td>\n",
       "      <td>Carl A Stockton</td>\n",
       "      <td>...</td>\n",
       "      <td>1</td>\n",
       "      <td>-2</td>\n",
       "      <td>-2</td>\n",
       "      <td>1101</td>\n",
       "      <td>Montgomery County</td>\n",
       "      <td>102</td>\n",
       "      <td>-86.177544</td>\n",
       "      <td>32.367360</td>\n",
       "      <td>122</td>\n",
       "      <td>1</td>\n",
       "    </tr>\n",
       "    <tr>\n",
       "      <th>10</th>\n",
       "      <td>100858</td>\n",
       "      <td>Auburn University</td>\n",
       "      <td></td>\n",
       "      <td></td>\n",
       "      <td>Auburn</td>\n",
       "      <td>AL</td>\n",
       "      <td>36849</td>\n",
       "      <td>1</td>\n",
       "      <td>5</td>\n",
       "      <td>Steven Leath</td>\n",
       "      <td>...</td>\n",
       "      <td>1</td>\n",
       "      <td>194</td>\n",
       "      <td>-2</td>\n",
       "      <td>1081</td>\n",
       "      <td>Lee County</td>\n",
       "      <td>103</td>\n",
       "      <td>-85.488258</td>\n",
       "      <td>32.599378</td>\n",
       "      <td>111</td>\n",
       "      <td>1</td>\n",
       "    </tr>\n",
       "    <tr>\n",
       "      <th>...</th>\n",
       "      <td>...</td>\n",
       "      <td>...</td>\n",
       "      <td>...</td>\n",
       "      <td>...</td>\n",
       "      <td>...</td>\n",
       "      <td>...</td>\n",
       "      <td>...</td>\n",
       "      <td>...</td>\n",
       "      <td>...</td>\n",
       "      <td>...</td>\n",
       "      <td>...</td>\n",
       "      <td>...</td>\n",
       "      <td>...</td>\n",
       "      <td>...</td>\n",
       "      <td>...</td>\n",
       "      <td>...</td>\n",
       "      <td>...</td>\n",
       "      <td>...</td>\n",
       "      <td>...</td>\n",
       "      <td>...</td>\n",
       "      <td>...</td>\n",
       "    </tr>\n",
       "    <tr>\n",
       "      <th>7099</th>\n",
       "      <td>490771</td>\n",
       "      <td>Kaplan University-St. Louis</td>\n",
       "      <td></td>\n",
       "      <td>1807 Park 270 Drive Suite 105</td>\n",
       "      <td>St. Louis</td>\n",
       "      <td>MO</td>\n",
       "      <td>63146-4021</td>\n",
       "      <td>29</td>\n",
       "      <td>4</td>\n",
       "      <td>Suzanne Marshall-Caby</td>\n",
       "      <td>...</td>\n",
       "      <td>1</td>\n",
       "      <td>476</td>\n",
       "      <td>-2</td>\n",
       "      <td>29189</td>\n",
       "      <td>St. Louis County</td>\n",
       "      <td>2902</td>\n",
       "      <td>-90.449121</td>\n",
       "      <td>38.690763</td>\n",
       "      <td>219</td>\n",
       "      <td>2</td>\n",
       "    </tr>\n",
       "    <tr>\n",
       "      <th>7101</th>\n",
       "      <td>490805</td>\n",
       "      <td>Purdue University Northwest</td>\n",
       "      <td>Purdue Northwest</td>\n",
       "      <td>2200 169th Street</td>\n",
       "      <td>Hammond</td>\n",
       "      <td>IN</td>\n",
       "      <td>46323</td>\n",
       "      <td>18</td>\n",
       "      <td>3</td>\n",
       "      <td>Thomas L. Keon</td>\n",
       "      <td>...</td>\n",
       "      <td>1</td>\n",
       "      <td>176</td>\n",
       "      <td>-2</td>\n",
       "      <td>18089</td>\n",
       "      <td>Lake County</td>\n",
       "      <td>1801</td>\n",
       "      <td>-87.474236</td>\n",
       "      <td>41.584324</td>\n",
       "      <td>119</td>\n",
       "      <td>1</td>\n",
       "    </tr>\n",
       "    <tr>\n",
       "      <th>7122</th>\n",
       "      <td>491093</td>\n",
       "      <td>National American University-Garden City</td>\n",
       "      <td></td>\n",
       "      <td>801 Campus Drive</td>\n",
       "      <td>Garden City</td>\n",
       "      <td>KS</td>\n",
       "      <td>67846-6333</td>\n",
       "      <td>20</td>\n",
       "      <td>4</td>\n",
       "      <td>Dr. Ronald Shape</td>\n",
       "      <td>...</td>\n",
       "      <td>2</td>\n",
       "      <td>-2</td>\n",
       "      <td>-2</td>\n",
       "      <td>20055</td>\n",
       "      <td>Finney County</td>\n",
       "      <td>2001</td>\n",
       "      <td>-100.849205</td>\n",
       "      <td>37.970526</td>\n",
       "      <td>222</td>\n",
       "      <td>2</td>\n",
       "    </tr>\n",
       "    <tr>\n",
       "      <th>7123</th>\n",
       "      <td>491109</td>\n",
       "      <td>National American University-Watertown</td>\n",
       "      <td></td>\n",
       "      <td>925 29th Street S.E.</td>\n",
       "      <td>Watertown</td>\n",
       "      <td>SD</td>\n",
       "      <td>57201-9123</td>\n",
       "      <td>46</td>\n",
       "      <td>4</td>\n",
       "      <td>Dr. Ronald Shape</td>\n",
       "      <td>...</td>\n",
       "      <td>2</td>\n",
       "      <td>-2</td>\n",
       "      <td>-2</td>\n",
       "      <td>46029</td>\n",
       "      <td>Codington County</td>\n",
       "      <td>4600</td>\n",
       "      <td>-97.069586</td>\n",
       "      <td>44.889215</td>\n",
       "      <td>222</td>\n",
       "      <td>2</td>\n",
       "    </tr>\n",
       "    <tr>\n",
       "      <th>7138</th>\n",
       "      <td>491288</td>\n",
       "      <td>University of Wisconsin-Milwaukee Flex</td>\n",
       "      <td></td>\n",
       "      <td>2200 E Kenwood Blvd</td>\n",
       "      <td>Milwaukee</td>\n",
       "      <td>WI</td>\n",
       "      <td>53201</td>\n",
       "      <td>55</td>\n",
       "      <td>3</td>\n",
       "      <td>Mark Mone</td>\n",
       "      <td>...</td>\n",
       "      <td>1</td>\n",
       "      <td>376</td>\n",
       "      <td>-2</td>\n",
       "      <td>55079</td>\n",
       "      <td>Milwaukee County</td>\n",
       "      <td>5504</td>\n",
       "      <td>-87.880488</td>\n",
       "      <td>43.076848</td>\n",
       "      <td>159</td>\n",
       "      <td>2</td>\n",
       "    </tr>\n",
       "  </tbody>\n",
       "</table>\n",
       "<p>1138 rows × 72 columns</p>\n",
       "</div>"
      ],
      "text/plain": [
       "      UNITID                                    INSTNM  \\\n",
       "1     100663       University of Alabama at Birmingham   \n",
       "3     100706       University of Alabama in Huntsville   \n",
       "6     100751                 The University of Alabama   \n",
       "9     100830           Auburn University at Montgomery   \n",
       "10    100858                         Auburn University   \n",
       "...      ...                                       ...   \n",
       "7099  490771               Kaplan University-St. Louis   \n",
       "7101  490805               Purdue University Northwest   \n",
       "7122  491093  National American University-Garden City   \n",
       "7123  491109    National American University-Watertown   \n",
       "7138  491288    University of Wisconsin-Milwaukee Flex   \n",
       "\n",
       "                                                 IALIAS  \\\n",
       "1                                                         \n",
       "3                 UAH |University of Alabama Huntsville   \n",
       "6                                                         \n",
       "9     AUM|Auburn University Montgomery|Auburn Univer...   \n",
       "10                                                        \n",
       "...                                                 ...   \n",
       "7099                                                      \n",
       "7101                                   Purdue Northwest   \n",
       "7122                                                      \n",
       "7123                                                      \n",
       "7138                                                      \n",
       "\n",
       "                                ADDR         CITY STABBR         ZIP  FIPS  \\\n",
       "1     Administration Bldg Suite 1070   Birmingham     AL  35294-0110     1   \n",
       "3                    301 Sparkman Dr   Huntsville     AL       35899     1   \n",
       "6                739 University Blvd   Tuscaloosa     AL  35487-0166     1   \n",
       "9                    7440 East Drive   Montgomery     AL  36117-3596     1   \n",
       "10                                         Auburn     AL       36849     1   \n",
       "...                              ...          ...    ...         ...   ...   \n",
       "7099   1807 Park 270 Drive Suite 105    St. Louis     MO  63146-4021    29   \n",
       "7101               2200 169th Street      Hammond     IN       46323    18   \n",
       "7122                801 Campus Drive  Garden City     KS  67846-6333    20   \n",
       "7123            925 29th Street S.E.    Watertown     SD  57201-9123    46   \n",
       "7138             2200 E Kenwood Blvd    Milwaukee     WI       53201    55   \n",
       "\n",
       "      OBEREG                  CHFNM  ... CBSATYPE  CSA  NECTA COUNTYCD  \\\n",
       "1          5           Ray L. Watts  ...        1  142     -2     1073   \n",
       "3          5   Robert A. Altenkirch  ...        1  290     -2     1089   \n",
       "6          5     Dr. Stuart R. Bell  ...        1   -2     -2     1125   \n",
       "9          5        Carl A Stockton  ...        1   -2     -2     1101   \n",
       "10         5           Steven Leath  ...        1  194     -2     1081   \n",
       "...      ...                    ...  ...      ...  ...    ...      ...   \n",
       "7099       4  Suzanne Marshall-Caby  ...        1  476     -2    29189   \n",
       "7101       3         Thomas L. Keon  ...        1  176     -2    18089   \n",
       "7122       4       Dr. Ronald Shape  ...        2   -2     -2    20055   \n",
       "7123       4       Dr. Ronald Shape  ...        2   -2     -2    46029   \n",
       "7138       3              Mark Mone  ...        1  376     -2    55079   \n",
       "\n",
       "               COUNTYNM  CNGDSTCD    LONGITUD   LATITUDE DFRCGID DFRCUSCG  \n",
       "1      Jefferson County       107  -86.799345  33.505697     109        1  \n",
       "3        Madison County       105  -86.640449  34.724557     112        2  \n",
       "6     Tuscaloosa County       107  -87.545978  33.211875     111        1  \n",
       "9     Montgomery County       102  -86.177544  32.367360     122        1  \n",
       "10           Lee County       103  -85.488258  32.599378     111        1  \n",
       "...                 ...       ...         ...        ...     ...      ...  \n",
       "7099   St. Louis County      2902  -90.449121  38.690763     219        2  \n",
       "7101        Lake County      1801  -87.474236  41.584324     119        1  \n",
       "7122      Finney County      2001 -100.849205  37.970526     222        2  \n",
       "7123   Codington County      4600  -97.069586  44.889215     222        2  \n",
       "7138   Milwaukee County      5504  -87.880488  43.076848     159        2  \n",
       "\n",
       "[1138 rows x 72 columns]"
      ]
     },
     "execution_count": 26,
     "metadata": {},
     "output_type": "execute_result"
    }
   ],
   "source": [
    "uni_list"
   ]
  },
  {
   "cell_type": "code",
   "execution_count": 27,
   "metadata": {},
   "outputs": [
    {
     "name": "stderr",
     "output_type": "stream",
     "text": [
      "C:\\Users\\saumy\\Anaconda3\\lib\\site-packages\\ipykernel_launcher.py:1: SettingWithCopyWarning: \n",
      "A value is trying to be set on a copy of a slice from a DataFrame.\n",
      "Try using .loc[row_indexer,col_indexer] = value instead\n",
      "\n",
      "See the caveats in the documentation: http://pandas.pydata.org/pandas-docs/stable/user_guide/indexing.html#returning-a-view-versus-a-copy\n",
      "  \"\"\"Entry point for launching an IPython kernel.\n"
     ]
    }
   ],
   "source": [
    "uni_list['distance (in miles)']=uni_list.apply(lambda x: haversine(long,lat,x['LONGITUD'],x['LATITUDE']),axis=1)"
   ]
  },
  {
   "cell_type": "markdown",
   "metadata": {},
   "source": [
    "## Final Datafile within the range"
   ]
  },
  {
   "cell_type": "code",
   "execution_count": 28,
   "metadata": {},
   "outputs": [],
   "source": [
    "final_df=uni_list[uni_list['distance (in miles)']<=20]"
   ]
  },
  {
   "cell_type": "code",
   "execution_count": 29,
   "metadata": {},
   "outputs": [
    {
     "data": {
      "text/html": [
       "<div>\n",
       "<style scoped>\n",
       "    .dataframe tbody tr th:only-of-type {\n",
       "        vertical-align: middle;\n",
       "    }\n",
       "\n",
       "    .dataframe tbody tr th {\n",
       "        vertical-align: top;\n",
       "    }\n",
       "\n",
       "    .dataframe thead th {\n",
       "        text-align: right;\n",
       "    }\n",
       "</style>\n",
       "<table border=\"1\" class=\"dataframe\">\n",
       "  <thead>\n",
       "    <tr style=\"text-align: right;\">\n",
       "      <th></th>\n",
       "      <th>UNITID</th>\n",
       "      <th>INSTNM</th>\n",
       "      <th>IALIAS</th>\n",
       "      <th>ADDR</th>\n",
       "      <th>CITY</th>\n",
       "      <th>STABBR</th>\n",
       "      <th>ZIP</th>\n",
       "      <th>FIPS</th>\n",
       "      <th>OBEREG</th>\n",
       "      <th>CHFNM</th>\n",
       "      <th>...</th>\n",
       "      <th>CSA</th>\n",
       "      <th>NECTA</th>\n",
       "      <th>COUNTYCD</th>\n",
       "      <th>COUNTYNM</th>\n",
       "      <th>CNGDSTCD</th>\n",
       "      <th>LONGITUD</th>\n",
       "      <th>LATITUDE</th>\n",
       "      <th>DFRCGID</th>\n",
       "      <th>DFRCUSCG</th>\n",
       "      <th>distance (in miles)</th>\n",
       "    </tr>\n",
       "  </thead>\n",
       "  <tbody>\n",
       "    <tr>\n",
       "      <th>3676</th>\n",
       "      <td>228769</td>\n",
       "      <td>The University of Texas at Arlington</td>\n",
       "      <td>UT Arlington</td>\n",
       "      <td>701 S. Nedderman Dr.</td>\n",
       "      <td>Arlington</td>\n",
       "      <td>TX</td>\n",
       "      <td>76013</td>\n",
       "      <td>48</td>\n",
       "      <td>6</td>\n",
       "      <td>Dr. Vistasp M. Karbhari</td>\n",
       "      <td>...</td>\n",
       "      <td>206</td>\n",
       "      <td>-2</td>\n",
       "      <td>48439</td>\n",
       "      <td>Tarrant County</td>\n",
       "      <td>4806</td>\n",
       "      <td>-97.112960</td>\n",
       "      <td>32.729718</td>\n",
       "      <td>107</td>\n",
       "      <td>1</td>\n",
       "      <td>15.447305</td>\n",
       "    </tr>\n",
       "    <tr>\n",
       "      <th>5043</th>\n",
       "      <td>437732</td>\n",
       "      <td>Dallas Nursing Institute</td>\n",
       "      <td></td>\n",
       "      <td>12170 N. Abrams Road Suite 200</td>\n",
       "      <td>Dallas</td>\n",
       "      <td>TX</td>\n",
       "      <td>75243</td>\n",
       "      <td>48</td>\n",
       "      <td>6</td>\n",
       "      <td>Charlita Shelton</td>\n",
       "      <td>...</td>\n",
       "      <td>206</td>\n",
       "      <td>-2</td>\n",
       "      <td>48113</td>\n",
       "      <td>Dallas County</td>\n",
       "      <td>4832</td>\n",
       "      <td>-96.734878</td>\n",
       "      <td>32.913800</td>\n",
       "      <td>177</td>\n",
       "      <td>2</td>\n",
       "      <td>10.029217</td>\n",
       "    </tr>\n",
       "    <tr>\n",
       "      <th>5211</th>\n",
       "      <td>442222</td>\n",
       "      <td>Argosy University-Dallas</td>\n",
       "      <td></td>\n",
       "      <td>5001 Lyndon B. Johnson Freeway, Heritage Squar...</td>\n",
       "      <td>Farmers Branch</td>\n",
       "      <td>TX</td>\n",
       "      <td>75244</td>\n",
       "      <td>48</td>\n",
       "      <td>6</td>\n",
       "      <td>Brian McAulay, PhD</td>\n",
       "      <td>...</td>\n",
       "      <td>206</td>\n",
       "      <td>-2</td>\n",
       "      <td>48113</td>\n",
       "      <td>Dallas County</td>\n",
       "      <td>4824</td>\n",
       "      <td>-96.823294</td>\n",
       "      <td>32.928188</td>\n",
       "      <td>175</td>\n",
       "      <td>1</td>\n",
       "      <td>7.551632</td>\n",
       "    </tr>\n",
       "    <tr>\n",
       "      <th>6454</th>\n",
       "      <td>477039</td>\n",
       "      <td>West Coast University-Dallas</td>\n",
       "      <td></td>\n",
       "      <td>8435 North Stemmons Freeway</td>\n",
       "      <td>Dallas</td>\n",
       "      <td>TX</td>\n",
       "      <td>75247-3900</td>\n",
       "      <td>48</td>\n",
       "      <td>6</td>\n",
       "      <td>Jeb Egbert</td>\n",
       "      <td>...</td>\n",
       "      <td>206</td>\n",
       "      <td>-2</td>\n",
       "      <td>48113</td>\n",
       "      <td>Dallas County</td>\n",
       "      <td>4833</td>\n",
       "      <td>-96.873805</td>\n",
       "      <td>32.827460</td>\n",
       "      <td>175</td>\n",
       "      <td>2</td>\n",
       "      <td>0.000000</td>\n",
       "    </tr>\n",
       "  </tbody>\n",
       "</table>\n",
       "<p>4 rows × 73 columns</p>\n",
       "</div>"
      ],
      "text/plain": [
       "      UNITID                                INSTNM        IALIAS  \\\n",
       "3676  228769  The University of Texas at Arlington  UT Arlington   \n",
       "5043  437732              Dallas Nursing Institute                 \n",
       "5211  442222              Argosy University-Dallas                 \n",
       "6454  477039          West Coast University-Dallas                 \n",
       "\n",
       "                                                   ADDR            CITY  \\\n",
       "3676                               701 S. Nedderman Dr.       Arlington   \n",
       "5043                     12170 N. Abrams Road Suite 200          Dallas   \n",
       "5211  5001 Lyndon B. Johnson Freeway, Heritage Squar...  Farmers Branch   \n",
       "6454                        8435 North Stemmons Freeway          Dallas   \n",
       "\n",
       "     STABBR         ZIP  FIPS  OBEREG                    CHFNM  ...  CSA  \\\n",
       "3676     TX       76013    48       6  Dr. Vistasp M. Karbhari  ...  206   \n",
       "5043     TX       75243    48       6         Charlita Shelton  ...  206   \n",
       "5211     TX       75244    48       6       Brian McAulay, PhD  ...  206   \n",
       "6454     TX  75247-3900    48       6               Jeb Egbert  ...  206   \n",
       "\n",
       "     NECTA  COUNTYCD        COUNTYNM CNGDSTCD   LONGITUD   LATITUDE DFRCGID  \\\n",
       "3676    -2     48439  Tarrant County     4806 -97.112960  32.729718     107   \n",
       "5043    -2     48113   Dallas County     4832 -96.734878  32.913800     177   \n",
       "5211    -2     48113   Dallas County     4824 -96.823294  32.928188     175   \n",
       "6454    -2     48113   Dallas County     4833 -96.873805  32.827460     175   \n",
       "\n",
       "     DFRCUSCG distance (in miles)  \n",
       "3676        1           15.447305  \n",
       "5043        2           10.029217  \n",
       "5211        1            7.551632  \n",
       "6454        2            0.000000  \n",
       "\n",
       "[4 rows x 73 columns]"
      ]
     },
     "execution_count": 29,
     "metadata": {},
     "output_type": "execute_result"
    }
   ],
   "source": [
    "final_df"
   ]
  },
  {
   "cell_type": "code",
   "execution_count": 30,
   "metadata": {},
   "outputs": [],
   "source": [
    "final_df.to_csv(path_to_processed_files+\"Final_Combined_485272.csv\",index=False)"
   ]
  },
  {
   "cell_type": "code",
   "execution_count": 31,
   "metadata": {},
   "outputs": [],
   "source": [
    "com_a_list_col=comp_a_df.filter(regex=\"MAJORNUM\")"
   ]
  },
  {
   "cell_type": "code",
   "execution_count": 32,
   "metadata": {},
   "outputs": [],
   "source": [
    "comp_a_df=comp_a_df.drop([\"Unnamed: 0\"],axis=1)"
   ]
  },
  {
   "cell_type": "code",
   "execution_count": 33,
   "metadata": {
    "scrolled": true
   },
   "outputs": [
    {
     "data": {
      "text/html": [
       "<div>\n",
       "<style scoped>\n",
       "    .dataframe tbody tr th:only-of-type {\n",
       "        vertical-align: middle;\n",
       "    }\n",
       "\n",
       "    .dataframe tbody tr th {\n",
       "        vertical-align: top;\n",
       "    }\n",
       "\n",
       "    .dataframe thead th {\n",
       "        text-align: right;\n",
       "    }\n",
       "</style>\n",
       "<table border=\"1\" class=\"dataframe\">\n",
       "  <thead>\n",
       "    <tr style=\"text-align: right;\">\n",
       "      <th></th>\n",
       "      <th>UNITID</th>\n",
       "      <th>CIPCODE</th>\n",
       "      <th>AWLEVEL</th>\n",
       "      <th>XCTOTALT_2018</th>\n",
       "      <th>CTOTALT_2018</th>\n",
       "      <th>XCTOTALM_2018</th>\n",
       "      <th>CTOTALM_2018</th>\n",
       "      <th>XCTOTALW_2018</th>\n",
       "      <th>CTOTALW_2018</th>\n",
       "      <th>XCAIANT_2018</th>\n",
       "      <th>...</th>\n",
       "      <th>XCUNKNM_2017</th>\n",
       "      <th>CUNKNM_2017</th>\n",
       "      <th>XCUNKNW_2017</th>\n",
       "      <th>CUNKNW_2017</th>\n",
       "      <th>XCNRALT_2017</th>\n",
       "      <th>CNRALT_2017</th>\n",
       "      <th>XCNRALM_2017</th>\n",
       "      <th>CNRALM_2017</th>\n",
       "      <th>XCNRALW_2017</th>\n",
       "      <th>CNRALW  _2017</th>\n",
       "    </tr>\n",
       "  </thead>\n",
       "  <tbody>\n",
       "    <tr>\n",
       "      <th>0</th>\n",
       "      <td>100654</td>\n",
       "      <td>1.0999</td>\n",
       "      <td>5</td>\n",
       "      <td>R</td>\n",
       "      <td>5.0</td>\n",
       "      <td>Z</td>\n",
       "      <td>0.0</td>\n",
       "      <td>R</td>\n",
       "      <td>5.0</td>\n",
       "      <td>Z</td>\n",
       "      <td>...</td>\n",
       "      <td>Z</td>\n",
       "      <td>0.0</td>\n",
       "      <td>Z</td>\n",
       "      <td>0.0</td>\n",
       "      <td>Z</td>\n",
       "      <td>0.0</td>\n",
       "      <td>Z</td>\n",
       "      <td>0.0</td>\n",
       "      <td>Z</td>\n",
       "      <td>0.0</td>\n",
       "    </tr>\n",
       "    <tr>\n",
       "      <th>1</th>\n",
       "      <td>100654</td>\n",
       "      <td>1.1001</td>\n",
       "      <td>5</td>\n",
       "      <td>R</td>\n",
       "      <td>9.0</td>\n",
       "      <td>R</td>\n",
       "      <td>2.0</td>\n",
       "      <td>R</td>\n",
       "      <td>7.0</td>\n",
       "      <td>Z</td>\n",
       "      <td>...</td>\n",
       "      <td>Z</td>\n",
       "      <td>0.0</td>\n",
       "      <td>Z</td>\n",
       "      <td>0.0</td>\n",
       "      <td>Z</td>\n",
       "      <td>0.0</td>\n",
       "      <td>Z</td>\n",
       "      <td>0.0</td>\n",
       "      <td>Z</td>\n",
       "      <td>0.0</td>\n",
       "    </tr>\n",
       "    <tr>\n",
       "      <th>2</th>\n",
       "      <td>100654</td>\n",
       "      <td>1.1001</td>\n",
       "      <td>7</td>\n",
       "      <td>R</td>\n",
       "      <td>5.0</td>\n",
       "      <td>R</td>\n",
       "      <td>1.0</td>\n",
       "      <td>R</td>\n",
       "      <td>4.0</td>\n",
       "      <td>Z</td>\n",
       "      <td>...</td>\n",
       "      <td>Z</td>\n",
       "      <td>0.0</td>\n",
       "      <td>Z</td>\n",
       "      <td>0.0</td>\n",
       "      <td>Z</td>\n",
       "      <td>0.0</td>\n",
       "      <td>Z</td>\n",
       "      <td>0.0</td>\n",
       "      <td>Z</td>\n",
       "      <td>0.0</td>\n",
       "    </tr>\n",
       "    <tr>\n",
       "      <th>3</th>\n",
       "      <td>100654</td>\n",
       "      <td>1.1001</td>\n",
       "      <td>17</td>\n",
       "      <td>R</td>\n",
       "      <td>1.0</td>\n",
       "      <td>R</td>\n",
       "      <td>1.0</td>\n",
       "      <td>Z</td>\n",
       "      <td>0.0</td>\n",
       "      <td>Z</td>\n",
       "      <td>...</td>\n",
       "      <td>Z</td>\n",
       "      <td>0.0</td>\n",
       "      <td>Z</td>\n",
       "      <td>0.0</td>\n",
       "      <td>R</td>\n",
       "      <td>1.0</td>\n",
       "      <td>R</td>\n",
       "      <td>1.0</td>\n",
       "      <td>Z</td>\n",
       "      <td>0.0</td>\n",
       "    </tr>\n",
       "    <tr>\n",
       "      <th>4</th>\n",
       "      <td>100654</td>\n",
       "      <td>1.9999</td>\n",
       "      <td>5</td>\n",
       "      <td>R</td>\n",
       "      <td>6.0</td>\n",
       "      <td>R</td>\n",
       "      <td>1.0</td>\n",
       "      <td>R</td>\n",
       "      <td>5.0</td>\n",
       "      <td>Z</td>\n",
       "      <td>...</td>\n",
       "      <td>Z</td>\n",
       "      <td>0.0</td>\n",
       "      <td>Z</td>\n",
       "      <td>0.0</td>\n",
       "      <td>Z</td>\n",
       "      <td>0.0</td>\n",
       "      <td>Z</td>\n",
       "      <td>0.0</td>\n",
       "      <td>Z</td>\n",
       "      <td>0.0</td>\n",
       "    </tr>\n",
       "    <tr>\n",
       "      <th>...</th>\n",
       "      <td>...</td>\n",
       "      <td>...</td>\n",
       "      <td>...</td>\n",
       "      <td>...</td>\n",
       "      <td>...</td>\n",
       "      <td>...</td>\n",
       "      <td>...</td>\n",
       "      <td>...</td>\n",
       "      <td>...</td>\n",
       "      <td>...</td>\n",
       "      <td>...</td>\n",
       "      <td>...</td>\n",
       "      <td>...</td>\n",
       "      <td>...</td>\n",
       "      <td>...</td>\n",
       "      <td>...</td>\n",
       "      <td>...</td>\n",
       "      <td>...</td>\n",
       "      <td>...</td>\n",
       "      <td>...</td>\n",
       "      <td>...</td>\n",
       "    </tr>\n",
       "    <tr>\n",
       "      <th>316998</th>\n",
       "      <td>491242</td>\n",
       "      <td>12.0402</td>\n",
       "      <td>1</td>\n",
       "      <td>NaN</td>\n",
       "      <td>NaN</td>\n",
       "      <td>NaN</td>\n",
       "      <td>NaN</td>\n",
       "      <td>NaN</td>\n",
       "      <td>NaN</td>\n",
       "      <td>NaN</td>\n",
       "      <td>...</td>\n",
       "      <td>R</td>\n",
       "      <td>0.0</td>\n",
       "      <td>R</td>\n",
       "      <td>0.0</td>\n",
       "      <td>R</td>\n",
       "      <td>0.0</td>\n",
       "      <td>R</td>\n",
       "      <td>0.0</td>\n",
       "      <td>R</td>\n",
       "      <td>0.0</td>\n",
       "    </tr>\n",
       "    <tr>\n",
       "      <th>316999</th>\n",
       "      <td>491242</td>\n",
       "      <td>12.0407</td>\n",
       "      <td>1</td>\n",
       "      <td>NaN</td>\n",
       "      <td>NaN</td>\n",
       "      <td>NaN</td>\n",
       "      <td>NaN</td>\n",
       "      <td>NaN</td>\n",
       "      <td>NaN</td>\n",
       "      <td>NaN</td>\n",
       "      <td>...</td>\n",
       "      <td>R</td>\n",
       "      <td>0.0</td>\n",
       "      <td>R</td>\n",
       "      <td>1.0</td>\n",
       "      <td>R</td>\n",
       "      <td>0.0</td>\n",
       "      <td>R</td>\n",
       "      <td>0.0</td>\n",
       "      <td>R</td>\n",
       "      <td>0.0</td>\n",
       "    </tr>\n",
       "    <tr>\n",
       "      <th>317000</th>\n",
       "      <td>491242</td>\n",
       "      <td>99.0000</td>\n",
       "      <td>1</td>\n",
       "      <td>NaN</td>\n",
       "      <td>NaN</td>\n",
       "      <td>NaN</td>\n",
       "      <td>NaN</td>\n",
       "      <td>NaN</td>\n",
       "      <td>NaN</td>\n",
       "      <td>NaN</td>\n",
       "      <td>...</td>\n",
       "      <td>R</td>\n",
       "      <td>0.0</td>\n",
       "      <td>R</td>\n",
       "      <td>1.0</td>\n",
       "      <td>R</td>\n",
       "      <td>0.0</td>\n",
       "      <td>R</td>\n",
       "      <td>0.0</td>\n",
       "      <td>R</td>\n",
       "      <td>0.0</td>\n",
       "    </tr>\n",
       "    <tr>\n",
       "      <th>317001</th>\n",
       "      <td>491297</td>\n",
       "      <td>52.1899</td>\n",
       "      <td>1</td>\n",
       "      <td>NaN</td>\n",
       "      <td>NaN</td>\n",
       "      <td>NaN</td>\n",
       "      <td>NaN</td>\n",
       "      <td>NaN</td>\n",
       "      <td>NaN</td>\n",
       "      <td>NaN</td>\n",
       "      <td>...</td>\n",
       "      <td>R</td>\n",
       "      <td>0.0</td>\n",
       "      <td>R</td>\n",
       "      <td>0.0</td>\n",
       "      <td>R</td>\n",
       "      <td>0.0</td>\n",
       "      <td>R</td>\n",
       "      <td>0.0</td>\n",
       "      <td>R</td>\n",
       "      <td>0.0</td>\n",
       "    </tr>\n",
       "    <tr>\n",
       "      <th>317002</th>\n",
       "      <td>491297</td>\n",
       "      <td>52.1899</td>\n",
       "      <td>6</td>\n",
       "      <td>NaN</td>\n",
       "      <td>NaN</td>\n",
       "      <td>NaN</td>\n",
       "      <td>NaN</td>\n",
       "      <td>NaN</td>\n",
       "      <td>NaN</td>\n",
       "      <td>NaN</td>\n",
       "      <td>...</td>\n",
       "      <td>R</td>\n",
       "      <td>0.0</td>\n",
       "      <td>R</td>\n",
       "      <td>0.0</td>\n",
       "      <td>R</td>\n",
       "      <td>0.0</td>\n",
       "      <td>R</td>\n",
       "      <td>0.0</td>\n",
       "      <td>R</td>\n",
       "      <td>0.0</td>\n",
       "    </tr>\n",
       "  </tbody>\n",
       "</table>\n",
       "<p>317003 rows × 303 columns</p>\n",
       "</div>"
      ],
      "text/plain": [
       "        UNITID  CIPCODE  AWLEVEL XCTOTALT_2018  CTOTALT_2018 XCTOTALM_2018  \\\n",
       "0       100654   1.0999        5             R           5.0             Z   \n",
       "1       100654   1.1001        5             R           9.0             R   \n",
       "2       100654   1.1001        7             R           5.0             R   \n",
       "3       100654   1.1001       17             R           1.0             R   \n",
       "4       100654   1.9999        5             R           6.0             R   \n",
       "...        ...      ...      ...           ...           ...           ...   \n",
       "316998  491242  12.0402        1           NaN           NaN           NaN   \n",
       "316999  491242  12.0407        1           NaN           NaN           NaN   \n",
       "317000  491242  99.0000        1           NaN           NaN           NaN   \n",
       "317001  491297  52.1899        1           NaN           NaN           NaN   \n",
       "317002  491297  52.1899        6           NaN           NaN           NaN   \n",
       "\n",
       "        CTOTALM_2018 XCTOTALW_2018  CTOTALW_2018 XCAIANT_2018  ...  \\\n",
       "0                0.0             R           5.0            Z  ...   \n",
       "1                2.0             R           7.0            Z  ...   \n",
       "2                1.0             R           4.0            Z  ...   \n",
       "3                1.0             Z           0.0            Z  ...   \n",
       "4                1.0             R           5.0            Z  ...   \n",
       "...              ...           ...           ...          ...  ...   \n",
       "316998           NaN           NaN           NaN          NaN  ...   \n",
       "316999           NaN           NaN           NaN          NaN  ...   \n",
       "317000           NaN           NaN           NaN          NaN  ...   \n",
       "317001           NaN           NaN           NaN          NaN  ...   \n",
       "317002           NaN           NaN           NaN          NaN  ...   \n",
       "\n",
       "        XCUNKNM_2017 CUNKNM_2017  XCUNKNW_2017 CUNKNW_2017  XCNRALT_2017  \\\n",
       "0                  Z         0.0             Z         0.0             Z   \n",
       "1                  Z         0.0             Z         0.0             Z   \n",
       "2                  Z         0.0             Z         0.0             Z   \n",
       "3                  Z         0.0             Z         0.0             R   \n",
       "4                  Z         0.0             Z         0.0             Z   \n",
       "...              ...         ...           ...         ...           ...   \n",
       "316998             R         0.0             R         0.0             R   \n",
       "316999             R         0.0             R         1.0             R   \n",
       "317000             R         0.0             R         1.0             R   \n",
       "317001             R         0.0             R         0.0             R   \n",
       "317002             R         0.0             R         0.0             R   \n",
       "\n",
       "       CNRALT_2017  XCNRALM_2017 CNRALM_2017  XCNRALW_2017 CNRALW  _2017  \n",
       "0              0.0             Z         0.0             Z           0.0  \n",
       "1              0.0             Z         0.0             Z           0.0  \n",
       "2              0.0             Z         0.0             Z           0.0  \n",
       "3              1.0             R         1.0             Z           0.0  \n",
       "4              0.0             Z         0.0             Z           0.0  \n",
       "...            ...           ...         ...           ...           ...  \n",
       "316998         0.0             R         0.0             R           0.0  \n",
       "316999         0.0             R         0.0             R           0.0  \n",
       "317000         0.0             R         0.0             R           0.0  \n",
       "317001         0.0             R         0.0             R           0.0  \n",
       "317002         0.0             R         0.0             R           0.0  \n",
       "\n",
       "[317003 rows x 303 columns]"
      ]
     },
     "execution_count": 33,
     "metadata": {},
     "output_type": "execute_result"
    }
   ],
   "source": [
    "comp_a_df"
   ]
  },
  {
   "cell_type": "code",
   "execution_count": 34,
   "metadata": {},
   "outputs": [],
   "source": [
    "comp_a_df=comp_a_df[(comp_a_df['CIPCODE']==CIPCODE) & (comp_a_df['AWLEVEL']==3)|(comp_a_df['AWLEVEL']==4) & (comp_a_df['CIPCODE']==CIPCODE)|(comp_a_df['AWLEVEL']==5) & (comp_a_df['CIPCODE']==CIPCODE)]\n",
    "# comp_a_df=comp_a_df[(comp_a_df['CIPCODE']==CIPCODE) & (comp_a_df['MAJORNUM_2017']==1) & (comp_a_df['AWLEVEL']==AWLEVEL)]"
   ]
  },
  {
   "cell_type": "code",
   "execution_count": null,
   "metadata": {},
   "outputs": [],
   "source": [
    "comp_a_df=comp_a_df[(comp_a_df['AWLEVEL']==5) & (comp_a_df['CIPCODE']==CIPCODE)]"
   ]
  },
  {
   "cell_type": "markdown",
   "metadata": {},
   "source": [
    "## Merge all files with result Universities"
   ]
  },
  {
   "cell_type": "markdown",
   "metadata": {},
   "source": [
    "Completion A"
   ]
  },
  {
   "cell_type": "code",
   "execution_count": null,
   "metadata": {
    "scrolled": false
   },
   "outputs": [],
   "source": [
    "result_comp_a=pd.merge(final_df,comp_a_df, on='UNITID',how='left')"
   ]
  },
  {
   "cell_type": "code",
   "execution_count": null,
   "metadata": {},
   "outputs": [],
   "source": [
    "result_comp_a"
   ]
  },
  {
   "cell_type": "markdown",
   "metadata": {},
   "source": [
    "Completion C"
   ]
  },
  {
   "cell_type": "code",
   "execution_count": null,
   "metadata": {},
   "outputs": [],
   "source": [
    "comp_c_df=comp_c_df[(comp_c_df['AWLEVELC']==3)|(comp_c_df['AWLEVELC']==4)|(comp_c_df['AWLEVELC']==5)]"
   ]
  },
  {
   "cell_type": "code",
   "execution_count": null,
   "metadata": {},
   "outputs": [],
   "source": [
    "result_comp_c=pd.merge(result_comp_a,comp_c_df, on='UNITID',how='left')\n",
    "result_comp_c=result_comp_c.loc[:,~result_comp_c.columns.str.startswith('X')]"
   ]
  },
  {
   "cell_type": "code",
   "execution_count": null,
   "metadata": {},
   "outputs": [],
   "source": [
    "result_comp_c"
   ]
  },
  {
   "cell_type": "markdown",
   "metadata": {},
   "source": [
    "Fall Enrollment A"
   ]
  },
  {
   "cell_type": "code",
   "execution_count": null,
   "metadata": {},
   "outputs": [],
   "source": [
    "# Enter 2 for undergraduate Total\n",
    "EFALEVEL=input(\"Input the Level of Record you want fo fall\\n Enter 1 for All total Students\\nEnter 2 for All Students, Undergraduate total\\nEnter 3 for All gradute Students\\n \")"
   ]
  },
  {
   "cell_type": "code",
   "execution_count": null,
   "metadata": {},
   "outputs": [],
   "source": [
    "# result.rename(columns = {'CTOTALT':'Grand total','CTOTALM':'Grand total men','CTOTALW':'Grand total women',\n",
    "#                           'CAIANT':'American Indian or Alaska Native total','CASIAT':'Asian total',\n",
    "#                           'CBKAAT':'Black or African American total','CHISPT':'Hispanic or Latino total',\n",
    "#                           'CNHPIT':'Native Hawaiian or Other Pacific Islander total','CWHITT':'White total',\n",
    "#                           'C2MORT':'Two or more races total','CUNKNT':'Race/ethnicity unknown total',\n",
    "#                           'CNRALT':'Nonresident alien total'}, inplace = True) "
   ]
  },
  {
   "cell_type": "code",
   "execution_count": null,
   "metadata": {},
   "outputs": [],
   "source": [
    "# result=result.loc[:,~result.columns.str.startswith('X')]\n",
    "# result=result.drop(columns=['CNRALM','CUNKNW','CUNKNM','C2MORW','CWHITM','CWHITW',\n",
    "#                             'C2MORM','CNHPIW','CNHPIM','CHISPW','CHISPM',\n",
    "#                             'CBKAAW','CBKAAM','CASIAW','CASIAM','CAIANW','CAIANM','CNRALW  '],axis=1)"
   ]
  },
  {
   "cell_type": "code",
   "execution_count": null,
   "metadata": {},
   "outputs": [],
   "source": [
    "FE_a_df=FE_a_df[(FE_a_df['EFALEVEL']==int(EFALEVEL))]\n",
    "result_fallenroll_a=pd.merge(result_comp_c,FE_a_df,on='UNITID',how='left')"
   ]
  },
  {
   "cell_type": "code",
   "execution_count": null,
   "metadata": {},
   "outputs": [],
   "source": [
    "result_fallenroll_a"
   ]
  },
  {
   "cell_type": "markdown",
   "metadata": {},
   "source": [
    "Fall Enrollment B"
   ]
  },
  {
   "cell_type": "code",
   "execution_count": null,
   "metadata": {},
   "outputs": [],
   "source": [
    "result_fallenroll_b=pd.merge(result_fallenroll_a,FE_b_df,on='UNITID',how='left')"
   ]
  },
  {
   "cell_type": "code",
   "execution_count": null,
   "metadata": {},
   "outputs": [],
   "source": [
    "result_fallenroll_b"
   ]
  },
  {
   "cell_type": "markdown",
   "metadata": {},
   "source": [
    "Fall Enrollment D"
   ]
  },
  {
   "cell_type": "code",
   "execution_count": null,
   "metadata": {},
   "outputs": [],
   "source": [
    "result_fallenroll_d=pd.merge(result_fallenroll_b,FE_d_df,on='UNITID',how='left')"
   ]
  },
  {
   "cell_type": "code",
   "execution_count": null,
   "metadata": {},
   "outputs": [],
   "source": [
    "result_fallenroll_d"
   ]
  },
  {
   "cell_type": "markdown",
   "metadata": {},
   "source": [
    "Student Financial  Aid and Net Price (Student financial aid and net price)"
   ]
  },
  {
   "cell_type": "code",
   "execution_count": null,
   "metadata": {},
   "outputs": [],
   "source": [
    "result_sfa=pd.merge(result_fallenroll_d,sfa_df,on='UNITID',how='left')"
   ]
  },
  {
   "cell_type": "code",
   "execution_count": null,
   "metadata": {},
   "outputs": [],
   "source": [
    "result_sfa"
   ]
  },
  {
   "cell_type": "markdown",
   "metadata": {},
   "source": [
    "Student Financial Aid and Net Price (Military Servicemembers and Veteran's Benefits)"
   ]
  },
  {
   "cell_type": "code",
   "execution_count": null,
   "metadata": {},
   "outputs": [],
   "source": [
    "result_sfav=pd.merge(result_sfa,sfav_df,on='UNITID',how='left')"
   ]
  },
  {
   "cell_type": "markdown",
   "metadata": {},
   "source": [
    "12- Month Enrollment (12-month unduplicated headcount)"
   ]
  },
  {
   "cell_type": "code",
   "execution_count": null,
   "metadata": {},
   "outputs": [],
   "source": [
    "LSTUDY=999\n",
    "if (int(EFALEVEL)==3 or int(EFALEVEL)==5):\n",
    "    EFALEVEL=4\n",
    "    LSTUDY=3\n",
    "elif(int(EFALEVEL)==2):\n",
    "    LSTUDY=1"
   ]
  },
  {
   "cell_type": "code",
   "execution_count": null,
   "metadata": {},
   "outputs": [],
   "source": [
    "# effy_df=effy_df[(effy_df[\"EFFYLEV\"]==int(EFALEVEL)& (effy_df[\"LSTUDY_2014\"]==LSTUDY))]\n",
    "effy_df=effy_df[(effy_df[\"EFFYLEV\"]==int(EFALEVEL))]"
   ]
  },
  {
   "cell_type": "code",
   "execution_count": null,
   "metadata": {
    "scrolled": true
   },
   "outputs": [],
   "source": [
    "effy_df"
   ]
  },
  {
   "cell_type": "code",
   "execution_count": null,
   "metadata": {},
   "outputs": [],
   "source": [
    "result_effy=pd.merge(result_sfav,effy_df,on='UNITID',how='left')"
   ]
  },
  {
   "cell_type": "code",
   "execution_count": null,
   "metadata": {},
   "outputs": [],
   "source": [
    "result_effy"
   ]
  },
  {
   "cell_type": "markdown",
   "metadata": {},
   "source": [
    "12-month enrollment data (12-month instructional activity)"
   ]
  },
  {
   "cell_type": "code",
   "execution_count": null,
   "metadata": {},
   "outputs": [],
   "source": [
    "result_efia=pd.merge(result_effy,efia_df,on='UNITID',how='left')"
   ]
  },
  {
   "cell_type": "code",
   "execution_count": null,
   "metadata": {},
   "outputs": [],
   "source": [
    "result_efia"
   ]
  },
  {
   "cell_type": "markdown",
   "metadata": {},
   "source": [
    "Admission and test Score"
   ]
  },
  {
   "cell_type": "code",
   "execution_count": null,
   "metadata": {},
   "outputs": [],
   "source": [
    "result_at=pd.merge(result_efia,at_df,on='UNITID',how='left')"
   ]
  },
  {
   "cell_type": "code",
   "execution_count": null,
   "metadata": {},
   "outputs": [],
   "source": [
    "result_at"
   ]
  },
  {
   "cell_type": "code",
   "execution_count": null,
   "metadata": {
    "scrolled": true
   },
   "outputs": [],
   "source": [
    "result_at=result_at.loc[:,~result_at.columns.str.startswith('X')]\n",
    "result_at=result_at.loc[:,~result_at.columns.str.startswith('Unnamed')]"
   ]
  },
  {
   "cell_type": "code",
   "execution_count": null,
   "metadata": {},
   "outputs": [],
   "source": [
    "result_at"
   ]
  },
  {
   "cell_type": "markdown",
   "metadata": {},
   "source": [
    "### Final File"
   ]
  },
  {
   "cell_type": "code",
   "execution_count": null,
   "metadata": {},
   "outputs": [],
   "source": [
    "result_at.to_csv(path_to_processed_files+\"Final_combined_output_477039.csv\",index=False)"
   ]
  }
 ],
 "metadata": {
  "kernelspec": {
   "display_name": "Python 3",
   "language": "python",
   "name": "python3"
  },
  "language_info": {
   "codemirror_mode": {
    "name": "ipython",
    "version": 3
   },
   "file_extension": ".py",
   "mimetype": "text/x-python",
   "name": "python",
   "nbconvert_exporter": "python",
   "pygments_lexer": "ipython3",
   "version": "3.7.4"
  }
 },
 "nbformat": 4,
 "nbformat_minor": 2
}
